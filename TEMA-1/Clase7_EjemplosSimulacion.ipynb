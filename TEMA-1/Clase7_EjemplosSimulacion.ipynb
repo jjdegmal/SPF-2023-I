{
 "cells": [
  {
   "cell_type": "markdown",
   "metadata": {},
   "source": [
    "# Clase 7\n",
    "\n",
    "El objetivo con esta sesión es entender las nociones básicas y metodología, para realizar una simulación de algún proceso de nuestra vida cotidiana o profesional. "
   ]
  },
  {
   "cell_type": "markdown",
   "metadata": {},
   "source": [
    "## Solución tarea 2 pandas \n",
    "Funciones de pandas que usaremos para resolver el problema\n",
    "\n",
    "- Funcion `applymap` pandas https://pandas.pydata.org/docs/reference/api/pandas.DataFrame.applymap.html\n",
    "- Función `set_index` pandas https://pandas.pydata.org/docs/reference/api/pandas.DataFrame.set_index.html\n",
    "\n",
    "Recordar que el problema establece lo siguiente:\n",
    "\n",
    "Escriba un programa que devuelva una lista de dos tuplas que tengan la información de (número de pedido, cantidad total de pedido). Recuerde el precio del pedido del producto debe aumentarse en 10€ si el valor de la orden es inferior a 100,00 €. La base que queremos analizar es la siguiente:"
   ]
  },
  {
   "cell_type": "code",
   "execution_count": 4,
   "metadata": {},
   "outputs": [
    {
     "data": {
      "text/html": [
       "<div>\n",
       "<style scoped>\n",
       "    .dataframe tbody tr th:only-of-type {\n",
       "        vertical-align: middle;\n",
       "    }\n",
       "\n",
       "    .dataframe tbody tr th {\n",
       "        vertical-align: top;\n",
       "    }\n",
       "\n",
       "    .dataframe thead th {\n",
       "        text-align: right;\n",
       "    }\n",
       "</style>\n",
       "<table border=\"1\" class=\"dataframe\">\n",
       "  <thead>\n",
       "    <tr style=\"text-align: right;\">\n",
       "      <th></th>\n",
       "      <th>0</th>\n",
       "      <th>1</th>\n",
       "      <th>2</th>\n",
       "      <th>3</th>\n",
       "    </tr>\n",
       "  </thead>\n",
       "  <tbody>\n",
       "    <tr>\n",
       "      <th>0</th>\n",
       "      <td>1</td>\n",
       "      <td>(5464, 4, 9.99)</td>\n",
       "      <td>(8274, 18, 12.99)</td>\n",
       "      <td>(9744, 9, 44.95)</td>\n",
       "    </tr>\n",
       "    <tr>\n",
       "      <th>1</th>\n",
       "      <td>2</td>\n",
       "      <td>(5464, 9, 9.99)</td>\n",
       "      <td>(9744, 9, 44.95)</td>\n",
       "      <td>None</td>\n",
       "    </tr>\n",
       "    <tr>\n",
       "      <th>2</th>\n",
       "      <td>3</td>\n",
       "      <td>(5464, 9, 9.99)</td>\n",
       "      <td>(88112, 11, 24.99)</td>\n",
       "      <td>None</td>\n",
       "    </tr>\n",
       "    <tr>\n",
       "      <th>3</th>\n",
       "      <td>4</td>\n",
       "      <td>(8732, 7, 11.99)</td>\n",
       "      <td>(7733, 11, 18.99)</td>\n",
       "      <td>(88112, 5, 39.95)</td>\n",
       "    </tr>\n",
       "  </tbody>\n",
       "</table>\n",
       "</div>"
      ],
      "text/plain": [
       "   0                 1                   2                  3\n",
       "0  1   (5464, 4, 9.99)   (8274, 18, 12.99)   (9744, 9, 44.95)\n",
       "1  2   (5464, 9, 9.99)    (9744, 9, 44.95)               None\n",
       "2  3   (5464, 9, 9.99)  (88112, 11, 24.99)               None\n",
       "3  4  (8732, 7, 11.99)   (7733, 11, 18.99)  (88112, 5, 39.95)"
      ]
     },
     "execution_count": 4,
     "metadata": {},
     "output_type": "execute_result"
    }
   ],
   "source": [
    "import pandas as pd\n",
    "import numpy as np \n",
    "\n",
    "orders2 = [[1, (\"5464\", 4, 9.99), (\"8274\",18,12.99), (\"9744\", 9, 44.95)], \n",
    "          [2, (\"5464\", 9, 9.99), (\"9744\", 9, 44.95)],\n",
    "          [3, (\"5464\", 9, 9.99), (\"88112\", 11, 24.99)],\n",
    "          [4, (\"8732\", 7, 11.99), (\"7733\",11,18.99), (\"88112\", 5, 39.95)] ]\n",
    "\n",
    "data = pd.DataFrame(orders2)\n",
    "data"
   ]
  },
  {
   "cell_type": "code",
   "execution_count": null,
   "metadata": {},
   "outputs": [],
   "source": [
    "# Solucionarlo acá\n"
   ]
  },
  {
   "cell_type": "code",
   "execution_count": null,
   "metadata": {},
   "outputs": [],
   "source": []
  },
  {
   "cell_type": "markdown",
   "metadata": {},
   "source": [
    "## Etapas para realizar un estudio de simulación\n",
    "\n",
    "> - *Definición del sistema*: determinar la interacción del sistema con otros sistemas, restricciones, interacción e interrelación de variables de interés y los resultados esperados.\n",
    "> - *Formulación de un modelo*: Es necesario definir todas las variables que forman parte del sistema y además definir un diagrama de flujo que describa la forma completa del modelo.\n",
    "> - *Colección de datos*: Definir los datos necesarios para el modelo. Datos pueden provenir de registros contables, órdenes de trabajo, órdenes de compra, opiniones de expertos y si no hay otro remedio por experimentación.\n",
    "> - *Validación*: En esta etapa es posible detectar deficiencias en la formulación del modelo o en los datos sumunistrados al modelo. Formas de validar un modelo son:\n",
    "    - Opinión de expertos.\n",
    "    - Exactitud con que se predicen datos hitóricos.\n",
    "    - Exactitud de la predicción del futuro.\n",
    "    - La aceptación y confianza en el modelo de la persona que hará uso de los resultados que arroje el experimento de simulación.\n",
    "    \n",
    "> - *Experimentación*: La experimentación con el modelo se realiza después de que éste ha sido validado. La experimentación consiste en generar los datos deseados y en realizar el análisis de sensibilidad de los índices requeridos.\n",
    "> - *Interpretación*: Se interpretan los resultados que arroja la simulación y en base a esto se toma una decisión.\n",
    "> - *Documentación*: \n",
    "    - Datos que debe de tener el modelo\n",
    "    - Manual de usurario\n",
    "        "
   ]
  },
  {
   "cell_type": "markdown",
   "metadata": {},
   "source": [
    "# Casos positivos Covid-19 [fuente](https://ourworldindata.org/coronavirus-source-data)"
   ]
  },
  {
   "cell_type": "code",
   "execution_count": 1,
   "metadata": {},
   "outputs": [],
   "source": [
    "# Importación de paquetes\n",
    "import numpy as np\n",
    "import matplotlib.pyplot as plt\n",
    "import pandas as pd\n",
    "import os\n",
    "import scipy.stats as st"
   ]
  },
  {
   "cell_type": "code",
   "execution_count": 37,
   "metadata": {
    "scrolled": true
   },
   "outputs": [
    {
     "data": {
      "text/html": [
       "<div>\n",
       "<style scoped>\n",
       "    .dataframe tbody tr th:only-of-type {\n",
       "        vertical-align: middle;\n",
       "    }\n",
       "\n",
       "    .dataframe tbody tr th {\n",
       "        vertical-align: top;\n",
       "    }\n",
       "\n",
       "    .dataframe thead th {\n",
       "        text-align: right;\n",
       "    }\n",
       "</style>\n",
       "<table border=\"1\" class=\"dataframe\">\n",
       "  <thead>\n",
       "    <tr style=\"text-align: right;\">\n",
       "      <th></th>\n",
       "      <th>iso_code</th>\n",
       "      <th>continent</th>\n",
       "      <th>location</th>\n",
       "      <th>total_cases</th>\n",
       "      <th>new_cases</th>\n",
       "      <th>new_cases_smoothed</th>\n",
       "      <th>total_deaths</th>\n",
       "      <th>new_deaths</th>\n",
       "      <th>new_deaths_smoothed</th>\n",
       "      <th>total_cases_per_million</th>\n",
       "      <th>...</th>\n",
       "      <th>gdp_per_capita</th>\n",
       "      <th>extreme_poverty</th>\n",
       "      <th>cardiovasc_death_rate</th>\n",
       "      <th>diabetes_prevalence</th>\n",
       "      <th>female_smokers</th>\n",
       "      <th>male_smokers</th>\n",
       "      <th>handwashing_facilities</th>\n",
       "      <th>hospital_beds_per_thousand</th>\n",
       "      <th>life_expectancy</th>\n",
       "      <th>human_development_index</th>\n",
       "    </tr>\n",
       "    <tr>\n",
       "      <th>date</th>\n",
       "      <th></th>\n",
       "      <th></th>\n",
       "      <th></th>\n",
       "      <th></th>\n",
       "      <th></th>\n",
       "      <th></th>\n",
       "      <th></th>\n",
       "      <th></th>\n",
       "      <th></th>\n",
       "      <th></th>\n",
       "      <th></th>\n",
       "      <th></th>\n",
       "      <th></th>\n",
       "      <th></th>\n",
       "      <th></th>\n",
       "      <th></th>\n",
       "      <th></th>\n",
       "      <th></th>\n",
       "      <th></th>\n",
       "      <th></th>\n",
       "      <th></th>\n",
       "    </tr>\n",
       "  </thead>\n",
       "  <tbody>\n",
       "    <tr>\n",
       "      <th>2020-02-28</th>\n",
       "      <td>MEX</td>\n",
       "      <td>North America</td>\n",
       "      <td>Mexico</td>\n",
       "      <td>1.0</td>\n",
       "      <td>1.0</td>\n",
       "      <td>NaN</td>\n",
       "      <td>NaN</td>\n",
       "      <td>NaN</td>\n",
       "      <td>NaN</td>\n",
       "      <td>0.008</td>\n",
       "      <td>...</td>\n",
       "      <td>17336.469</td>\n",
       "      <td>2.5</td>\n",
       "      <td>152.783</td>\n",
       "      <td>13.06</td>\n",
       "      <td>6.9</td>\n",
       "      <td>21.4</td>\n",
       "      <td>87.847</td>\n",
       "      <td>1.38</td>\n",
       "      <td>75.05</td>\n",
       "      <td>0.779</td>\n",
       "    </tr>\n",
       "    <tr>\n",
       "      <th>2020-02-29</th>\n",
       "      <td>MEX</td>\n",
       "      <td>North America</td>\n",
       "      <td>Mexico</td>\n",
       "      <td>4.0</td>\n",
       "      <td>3.0</td>\n",
       "      <td>NaN</td>\n",
       "      <td>NaN</td>\n",
       "      <td>NaN</td>\n",
       "      <td>NaN</td>\n",
       "      <td>0.031</td>\n",
       "      <td>...</td>\n",
       "      <td>17336.469</td>\n",
       "      <td>2.5</td>\n",
       "      <td>152.783</td>\n",
       "      <td>13.06</td>\n",
       "      <td>6.9</td>\n",
       "      <td>21.4</td>\n",
       "      <td>87.847</td>\n",
       "      <td>1.38</td>\n",
       "      <td>75.05</td>\n",
       "      <td>0.779</td>\n",
       "    </tr>\n",
       "    <tr>\n",
       "      <th>2020-03-01</th>\n",
       "      <td>MEX</td>\n",
       "      <td>North America</td>\n",
       "      <td>Mexico</td>\n",
       "      <td>5.0</td>\n",
       "      <td>1.0</td>\n",
       "      <td>NaN</td>\n",
       "      <td>NaN</td>\n",
       "      <td>NaN</td>\n",
       "      <td>NaN</td>\n",
       "      <td>0.039</td>\n",
       "      <td>...</td>\n",
       "      <td>17336.469</td>\n",
       "      <td>2.5</td>\n",
       "      <td>152.783</td>\n",
       "      <td>13.06</td>\n",
       "      <td>6.9</td>\n",
       "      <td>21.4</td>\n",
       "      <td>87.847</td>\n",
       "      <td>1.38</td>\n",
       "      <td>75.05</td>\n",
       "      <td>0.779</td>\n",
       "    </tr>\n",
       "    <tr>\n",
       "      <th>2020-03-02</th>\n",
       "      <td>MEX</td>\n",
       "      <td>North America</td>\n",
       "      <td>Mexico</td>\n",
       "      <td>5.0</td>\n",
       "      <td>0.0</td>\n",
       "      <td>NaN</td>\n",
       "      <td>NaN</td>\n",
       "      <td>NaN</td>\n",
       "      <td>NaN</td>\n",
       "      <td>0.039</td>\n",
       "      <td>...</td>\n",
       "      <td>17336.469</td>\n",
       "      <td>2.5</td>\n",
       "      <td>152.783</td>\n",
       "      <td>13.06</td>\n",
       "      <td>6.9</td>\n",
       "      <td>21.4</td>\n",
       "      <td>87.847</td>\n",
       "      <td>1.38</td>\n",
       "      <td>75.05</td>\n",
       "      <td>0.779</td>\n",
       "    </tr>\n",
       "    <tr>\n",
       "      <th>2020-03-03</th>\n",
       "      <td>MEX</td>\n",
       "      <td>North America</td>\n",
       "      <td>Mexico</td>\n",
       "      <td>5.0</td>\n",
       "      <td>0.0</td>\n",
       "      <td>NaN</td>\n",
       "      <td>NaN</td>\n",
       "      <td>NaN</td>\n",
       "      <td>NaN</td>\n",
       "      <td>0.039</td>\n",
       "      <td>...</td>\n",
       "      <td>17336.469</td>\n",
       "      <td>2.5</td>\n",
       "      <td>152.783</td>\n",
       "      <td>13.06</td>\n",
       "      <td>6.9</td>\n",
       "      <td>21.4</td>\n",
       "      <td>87.847</td>\n",
       "      <td>1.38</td>\n",
       "      <td>75.05</td>\n",
       "      <td>0.779</td>\n",
       "    </tr>\n",
       "  </tbody>\n",
       "</table>\n",
       "<p>5 rows × 58 columns</p>\n",
       "</div>"
      ],
      "text/plain": [
       "           iso_code      continent location  total_cases  new_cases  \\\n",
       "date                                                                  \n",
       "2020-02-28      MEX  North America   Mexico          1.0        1.0   \n",
       "2020-02-29      MEX  North America   Mexico          4.0        3.0   \n",
       "2020-03-01      MEX  North America   Mexico          5.0        1.0   \n",
       "2020-03-02      MEX  North America   Mexico          5.0        0.0   \n",
       "2020-03-03      MEX  North America   Mexico          5.0        0.0   \n",
       "\n",
       "            new_cases_smoothed  total_deaths  new_deaths  new_deaths_smoothed  \\\n",
       "date                                                                            \n",
       "2020-02-28                 NaN           NaN         NaN                  NaN   \n",
       "2020-02-29                 NaN           NaN         NaN                  NaN   \n",
       "2020-03-01                 NaN           NaN         NaN                  NaN   \n",
       "2020-03-02                 NaN           NaN         NaN                  NaN   \n",
       "2020-03-03                 NaN           NaN         NaN                  NaN   \n",
       "\n",
       "            total_cases_per_million  ...  gdp_per_capita  extreme_poverty  \\\n",
       "date                                 ...                                    \n",
       "2020-02-28                    0.008  ...       17336.469              2.5   \n",
       "2020-02-29                    0.031  ...       17336.469              2.5   \n",
       "2020-03-01                    0.039  ...       17336.469              2.5   \n",
       "2020-03-02                    0.039  ...       17336.469              2.5   \n",
       "2020-03-03                    0.039  ...       17336.469              2.5   \n",
       "\n",
       "            cardiovasc_death_rate  diabetes_prevalence  female_smokers  \\\n",
       "date                                                                     \n",
       "2020-02-28                152.783                13.06             6.9   \n",
       "2020-02-29                152.783                13.06             6.9   \n",
       "2020-03-01                152.783                13.06             6.9   \n",
       "2020-03-02                152.783                13.06             6.9   \n",
       "2020-03-03                152.783                13.06             6.9   \n",
       "\n",
       "            male_smokers  handwashing_facilities  hospital_beds_per_thousand  \\\n",
       "date                                                                           \n",
       "2020-02-28          21.4                  87.847                        1.38   \n",
       "2020-02-29          21.4                  87.847                        1.38   \n",
       "2020-03-01          21.4                  87.847                        1.38   \n",
       "2020-03-02          21.4                  87.847                        1.38   \n",
       "2020-03-03          21.4                  87.847                        1.38   \n",
       "\n",
       "            life_expectancy  human_development_index  \n",
       "date                                                  \n",
       "2020-02-28            75.05                    0.779  \n",
       "2020-02-29            75.05                    0.779  \n",
       "2020-03-01            75.05                    0.779  \n",
       "2020-03-02            75.05                    0.779  \n",
       "2020-03-03            75.05                    0.779  \n",
       "\n",
       "[5 rows x 58 columns]"
      ]
     },
     "execution_count": 37,
     "metadata": {},
     "output_type": "execute_result"
    }
   ],
   "source": [
    "# Leer los datos del archivo covid_cases y quedarse únicamente con los datos de méxico\n",
    "data = pd.read_csv('covid_cases.csv')\n"
   ]
  },
  {
   "cell_type": "code",
   "execution_count": 25,
   "metadata": {},
   "outputs": [
    {
     "data": {
      "text/plain": [
       "<AxesSubplot:xlabel='date'>"
      ]
     },
     "execution_count": 25,
     "metadata": {},
     "output_type": "execute_result"
    },
    {
     "data": {
      "image/png": "[encoded data removed]",
      "text/plain": [
       "<Figure size 720x360 with 1 Axes>"
      ]
     },
     "metadata": {
      "needs_background": "light"
     },
     "output_type": "display_data"
    }
   ],
   "source": [
    "# Seleccionar únicamente los casos totales y graficarlos\n"
   ]
  },
  {
   "cell_type": "code",
   "execution_count": 31,
   "metadata": {},
   "outputs": [
    {
     "data": {
      "text/plain": [
       "<AxesSubplot:>"
      ]
     },
     "execution_count": 31,
     "metadata": {},
     "output_type": "execute_result"
    },
    {
     "data": {
      "image/png": "[encoded data removed]",
      "text/plain": [
       "<Figure size 720x360 with 1 Axes>"
      ]
     },
     "metadata": {
      "needs_background": "light"
     },
     "output_type": "display_data"
    }
   ],
   "source": [
    "# Analizar los datos en el dominio de la frecuencia (histograma)\n"
   ]
  },
  {
   "cell_type": "code",
   "execution_count": 73,
   "metadata": {},
   "outputs": [
    {
     "data": {
      "image/png": "[encoded data removed]",
      "text/plain": [
       "<Figure size 720x360 with 1 Axes>"
      ]
     },
     "metadata": {
      "needs_background": "light"
     },
     "output_type": "display_data"
    }
   ],
   "source": [
    "# Analizar el help de la función st.expon (paŕametros y método rvs)\n",
    "# Generar 10**4 valores aleatorios de dicha distribución y luego comparar\n",
    "# el histograma de los datos reales con los datos simulados\n",
    "\n"
   ]
  },
  {
   "cell_type": "markdown",
   "metadata": {},
   "source": [
    "## ¿Cómo usaríamos montecarlo para saber en un futuro cuantas personas es probable que se infecten?"
   ]
  },
  {
   "cell_type": "code",
   "execution_count": 76,
   "metadata": {
    "scrolled": true
   },
   "outputs": [
    {
     "data": {
      "text/plain": [
       "array([ 640374.5527827 , 1281587.28661897, 1927367.46361889,\n",
       "       2564687.70902269, 3201859.70534247, 3841100.11398707,\n",
       "       4472371.97891696])"
      ]
     },
     "execution_count": 76,
     "metadata": {},
     "output_type": "execute_result"
    }
   ],
   "source": [
    "escenarios, fecha_futura = 10000, 7\n"
   ]
  },
  {
   "cell_type": "markdown",
   "metadata": {},
   "source": [
    "# Simular dado cargado\n",
    "\n",
    "Suponga que tenemos un dado cargado que distribuye según un distribución de probabilidad binomial con parámetros `n=5`, `p=0.5`."
   ]
  },
  {
   "cell_type": "code",
   "execution_count": 89,
   "metadata": {},
   "outputs": [
    {
     "data": {
      "text/plain": [
       "array([2, 3, 2, ..., 1, 3, 2])"
      ]
     },
     "execution_count": 89,
     "metadata": {},
     "output_type": "execute_result"
    },
    {
     "data": {
      "image/png": "[encoded data removed]",
      "text/plain": [
       "<Figure size 432x288 with 1 Axes>"
      ]
     },
     "metadata": {
      "needs_background": "light"
     },
     "output_type": "display_data"
    }
   ],
   "source": [
    "np.random.seed(344)\n",
    "# Graficar el histograma de 1000 lanazamientos del dado\n",
    "# Cómo graficar un diagrama de barras con matplotlib\n",
    "# https://www.tutorialspoint.com/matplotlib/matplotlib_bar_plot.htm"
   ]
  },
  {
   "cell_type": "markdown",
   "metadata": {},
   "source": [
    "# Ejercicio"
   ]
  },
  {
   "cell_type": "markdown",
   "metadata": {},
   "source": [
    "Si el usuario tira cualquier número entre 1 y 50, el casino gana. Si el usuario tira cualquier número entre 51 y 99, el usuario gana. Si el usuario tira 100, pierde."
   ]
  },
  {
   "cell_type": "code",
   "execution_count": 55,
   "metadata": {},
   "outputs": [],
   "source": [
    "# Solución\n"
   ]
  },
  {
   "cell_type": "markdown",
   "metadata": {},
   "source": [
    "# Tarea\n",
    "\n",
    "# 1\n",
    "Como ejemplo simple de una simulación de Monte Carlo, considere calcular la probabilidad de una suma particular del lanzamiento de tres dados (cada dado tiene valores del uno al seis). Además cada dado tiene las siguientes carácterísticas: el primer dado no está cargado (distribución uniforme todos son equiprobables); el segundo y tercer dado están cargados basados en una distribución binomial con parámetros (`n=5, p=0.5` y `n=5, p=0.2`). Calcule la probabilidad de que la suma resultante sea 7, 14 o 18. "
   ]
  },
  {
   "cell_type": "code",
   "execution_count": 53,
   "metadata": {},
   "outputs": [
    {
     "data": {
      "text/plain": [
       "(0.127, 0.01352, 1e-05)"
      ]
     },
     "execution_count": 53,
     "metadata": {},
     "output_type": "execute_result"
    }
   ],
   "source": [
    "# Solución\n"
   ]
  },
  {
   "cell_type": "markdown",
   "metadata": {},
   "source": [
    "# 2 Ejercicio de aplicación- Cafetería Central\n",
    "\n",
    "Premisas para la simulación:\n",
    "- Negocio de alimentos que vende bebidas y alimentos.\n",
    "- Negocio dentro del ITESO.\n",
    "- Negocio en cafetería central.\n",
    "- Tipo de clientes (hombres y mujeres).\n",
    "- Rentabilidad del 60%.\n",
    "\n",
    "## Objetivo\n",
    "Realizar una simulación estimado el tiempo medio que se tardaran los clientes en ser atendidos entre el horario de 6:30 a 1 pm. Además saber el consumo. \n",
    "**Analizar supuestos y limitantes**"
   ]
  },
  {
   "cell_type": "markdown",
   "metadata": {},
   "source": [
    "## Supuestos en simulación\n",
    "Clasificación de clientes: \n",
    "- Mujer  = 1 $\\longrightarrow$ aleatorio < 0.5\n",
    "- Hombre = 0 $\\longrightarrow$ aleatorio $\\geq$ 0.5.\n",
    "\n",
    "Condiciones iniciales:\n",
    "- Todas las distrubuciones de probabilidad se supondrán uniformes.\n",
    "- Tiempo de simulación: 6:30 am - 1:30pm $\\longrightarrow$ T = 7 horas = 25200 seg.\n",
    "- Tiempo de llegada hasta ser atendido: Min=5seg, Max=30seg.\n",
    "- Tiempo que tardan los clientes en ser atendidos:\n",
    "    - Mujer: Min = 1 min= 60seg, Max = 5 min = 300 seg\n",
    "    - Hombre: Min = 40 seg, Max = 2 min= 120 seg\n",
    "- Consumo según el tipo de cliente:\n",
    "    - Mujer: Min = 30 pesos, Max = 100 pesos\n",
    "    - Hombre: Min = 20 pesos, Max = 80 pesos\n",
    "\n",
    "Responder las siguientes preguntas basados en los datos del problema:\n",
    "1. ¿Cuáles fueron los gastos de los hombres y las mujeres en 5 días de trabajo?.\n",
    "2. ¿Cuál fue el consumo promedio de los hombres y mujeres?\n",
    "3. ¿Cuál fue el número de personas atendidas por día?\n",
    "4. ¿Cuál fue el tiempo de atención promedio?\n",
    "5. ¿Cuánto fue la ganancia promedio de la cafetería en 5 días de trabajo y su respectiva rentabilidad?"
   ]
  },
  {
   "cell_type": "code",
   "execution_count": 54,
   "metadata": {},
   "outputs": [],
   "source": [
    "################## Datos del problema\n",
    "d = 5\n",
    "T =25200\n",
    "T_at_min = 5; T_at_max = 30\n",
    "T_mujer_min =60; T_mujer_max = 300\n",
    "T_hombre_min = 40; T_hombre_max = 120\n",
    "C_mujer_min = 30; C_mujer_max = 100\n",
    "C_hombre_min = 20; C_hombre_max = 80\n"
   ]
  },
  {
   "cell_type": "markdown",
   "metadata": {},
   "source": [
    "<script>\n",
    "  $(document).ready(function(){\n",
    "    $('div.prompt').hide();\n",
    "    $('div.back-to-top').hide();\n",
    "    $('nav#menubar').hide();\n",
    "    $('.breadcrumb').hide();\n",
    "    $('.hidden-print').hide();\n",
    "  });\n",
    "</script>\n",
    "\n",
    "<footer id=\"attribution\" style=\"float:right; color:#808080; background:#fff;\">\n",
    "Created with Jupyter by Oscar David Jaramillo Zuluaga\n",
    "</footer>"
   ]
  }
 ],
 "metadata": {
  "kernelspec": {
   "display_name": "Python 3 (ipykernel)",
   "language": "python",
   "name": "python3"
  },
  "language_info": {
   "codemirror_mode": {
    "name": "ipython",
    "version": 3
   },
   "file_extension": ".py",
   "mimetype": "text/x-python",
   "name": "python",
   "nbconvert_exporter": "python",
   "pygments_lexer": "ipython3",
   "version": "3.9.12"
  }
 },
 "nbformat": 4,
 "nbformat_minor": 2
}
